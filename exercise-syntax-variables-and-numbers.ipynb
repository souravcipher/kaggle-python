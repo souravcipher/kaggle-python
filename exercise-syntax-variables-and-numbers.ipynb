{
 "cells": [
  {
   "cell_type": "markdown",
   "id": "9dc28055",
   "metadata": {
    "papermill": {
     "duration": 0.009535,
     "end_time": "2023-01-25T11:12:44.212618",
     "exception": false,
     "start_time": "2023-01-25T11:12:44.203083",
     "status": "completed"
    },
    "tags": []
   },
   "source": [
    "**This notebook is an exercise in the [Python](https://www.kaggle.com/learn/python) course.  You can reference the tutorial at [this link](https://www.kaggle.com/colinmorris/hello-python).**\n",
    "\n",
    "---\n"
   ]
  },
  {
   "cell_type": "markdown",
   "id": "9c842ca4",
   "metadata": {
    "papermill": {
     "duration": 0.006302,
     "end_time": "2023-01-25T11:12:44.228112",
     "exception": false,
     "start_time": "2023-01-25T11:12:44.221810",
     "status": "completed"
    },
    "tags": []
   },
   "source": [
    "Welcome to your first set of Python coding problems.  If this is your first time using Kaggle Notebooks, welcome! \n",
    "\n",
    "Notebooks are composed of blocks (called \"cells\") of text and code. Each of these is editable, though you'll mainly be editing the code cells to answer some questions.\n",
    "\n",
    "To get started, try running the code cell below (by pressing the ► button, or clicking on the cell and pressing ctrl+enter on your keyboard)."
   ]
  },
  {
   "cell_type": "code",
   "execution_count": 1,
   "id": "3da6d93c",
   "metadata": {
    "execution": {
     "iopub.execute_input": "2023-01-25T11:12:44.243264Z",
     "iopub.status.busy": "2023-01-25T11:12:44.242742Z",
     "iopub.status.idle": "2023-01-25T11:12:44.255304Z",
     "shell.execute_reply": "2023-01-25T11:12:44.253847Z"
    },
    "papermill": {
     "duration": 0.023594,
     "end_time": "2023-01-25T11:12:44.258159",
     "exception": false,
     "start_time": "2023-01-25T11:12:44.234565",
     "status": "completed"
    },
    "tags": []
   },
   "outputs": [
    {
     "name": "stdout",
     "output_type": "stream",
     "text": [
      "You've successfully run some Python code\n",
      "Congratulations!\n"
     ]
    }
   ],
   "source": [
    "print(\"You've successfully run some Python code\")\n",
    "print(\"Congratulations!\")"
   ]
  },
  {
   "cell_type": "markdown",
   "id": "b62bb306",
   "metadata": {
    "papermill": {
     "duration": 0.006472,
     "end_time": "2023-01-25T11:12:44.271076",
     "exception": false,
     "start_time": "2023-01-25T11:12:44.264604",
     "status": "completed"
    },
    "tags": []
   },
   "source": [
    "Try adding another line of code in the cell above and re-running it. \n",
    "\n",
    "Now let's get a little fancier:  Add a new code cell by clicking on an existing code cell, hitting the escape key, and then hitting the `a` or `b` key.  The `a` key will add a cell above the current cell, and `b` adds a cell below.\n",
    "\n",
    "Great! Now you know how to use Notebooks.\n",
    "\n",
    "Each hands-on exercise starts by setting up our feedback and code checking mechanism. Run the code cell below to do that. Then you'll be ready to move on to question 0."
   ]
  },
  {
   "cell_type": "code",
   "execution_count": 2,
   "id": "ee1d0c65",
   "metadata": {
    "_kg_hide-input": true,
    "_kg_hide-output": true,
    "execution": {
     "iopub.execute_input": "2023-01-25T11:12:44.285671Z",
     "iopub.status.busy": "2023-01-25T11:12:44.285246Z",
     "iopub.status.idle": "2023-01-25T11:12:44.339156Z",
     "shell.execute_reply": "2023-01-25T11:12:44.337452Z"
    },
    "papermill": {
     "duration": 0.065943,
     "end_time": "2023-01-25T11:12:44.343234",
     "exception": false,
     "start_time": "2023-01-25T11:12:44.277291",
     "status": "completed"
    },
    "tags": []
   },
   "outputs": [
    {
     "name": "stdout",
     "output_type": "stream",
     "text": [
      "Setup complete! You're ready to start question 0.\n"
     ]
    }
   ],
   "source": [
    "from learntools.core import binder; binder.bind(globals())\n",
    "from learntools.python.ex1 import *\n",
    "print(\"Setup complete! You're ready to start question 0.\")"
   ]
  },
  {
   "cell_type": "markdown",
   "id": "7315dc4b",
   "metadata": {
    "papermill": {
     "duration": 0.006502,
     "end_time": "2023-01-25T11:12:44.357038",
     "exception": false,
     "start_time": "2023-01-25T11:12:44.350536",
     "status": "completed"
    },
    "tags": []
   },
   "source": [
    "# 0.\n",
    "\n",
    "*This is a silly question intended as an introduction to the format we use for hands-on exercises throughout all Kaggle courses.*\n",
    "\n",
    "**What is your favorite color? **\n",
    "\n",
    "To complete this question, create a variable called `color` in the cell below with an appropriate value. The function call `q0.check()` (which we've already provided in the cell below) will check your answer."
   ]
  },
  {
   "cell_type": "code",
   "execution_count": 3,
   "id": "77e175d9",
   "metadata": {
    "execution": {
     "iopub.execute_input": "2023-01-25T11:12:44.372058Z",
     "iopub.status.busy": "2023-01-25T11:12:44.371390Z",
     "iopub.status.idle": "2023-01-25T11:12:44.382517Z",
     "shell.execute_reply": "2023-01-25T11:12:44.381619Z"
    },
    "papermill": {
     "duration": 0.021061,
     "end_time": "2023-01-25T11:12:44.384546",
     "exception": false,
     "start_time": "2023-01-25T11:12:44.363485",
     "status": "completed"
    },
    "tags": []
   },
   "outputs": [
    {
     "data": {
      "application/javascript": [
       "parent.postMessage({\"jupyterEvent\": \"custom.exercise_interaction\", \"data\": {\"outcomeType\": 4, \"interactionType\": 1, \"questionType\": 2, \"questionId\": \"0_ExerciseFormatTutorial\", \"learnToolsVersion\": \"0.3.4\", \"valueTowardsCompletion\": 0.0, \"failureMessage\": \"\", \"exceptionClass\": \"\", \"trace\": \"\"}}, \"*\")"
      ],
      "text/plain": [
       "<IPython.core.display.Javascript object>"
      ]
     },
     "metadata": {},
     "output_type": "display_data"
    },
    {
     "data": {
      "text/markdown": [
       "<span style=\"color:#ccaa33\">Check:</span> When you've updated the starter code, `check()` will tell you whether your code is correct. Remember, you must create the following variable: `color`"
      ],
      "text/plain": [
       "Check: When you've updated the starter code, `check()` will tell you whether your code is correct. Remember, you must create the following variable: `color`"
      ]
     },
     "metadata": {},
     "output_type": "display_data"
    }
   ],
   "source": [
    "# create a variable called color with an appropriate value on the line below\n",
    "# (Remember, strings in Python must be enclosed in 'single' or \"double\" quotes)\n",
    "____\n",
    "\n",
    "# Check your answer\n",
    "q0.check()"
   ]
  },
  {
   "cell_type": "markdown",
   "id": "75aaba76",
   "metadata": {
    "papermill": {
     "duration": 0.006296,
     "end_time": "2023-01-25T11:12:44.397436",
     "exception": false,
     "start_time": "2023-01-25T11:12:44.391140",
     "status": "completed"
    },
    "tags": []
   },
   "source": [
    "Didn't get the right answer? How do you not even know your own favorite color?!\n",
    "\n",
    "Delete the `#` in the line below to make one of the lines run. You can choose between getting a hint or the full answer by choosing which line to remove the `#` from. \n",
    "\n",
    "Removing the `#` is called uncommenting, because it changes that line from a \"comment\" which Python doesn't run to code, which Python does run."
   ]
  },
  {
   "cell_type": "code",
   "execution_count": 4,
   "id": "a9b52f44",
   "metadata": {
    "execution": {
     "iopub.execute_input": "2023-01-25T11:12:44.413134Z",
     "iopub.status.busy": "2023-01-25T11:12:44.412295Z",
     "iopub.status.idle": "2023-01-25T11:12:44.416686Z",
     "shell.execute_reply": "2023-01-25T11:12:44.415446Z"
    },
    "papermill": {
     "duration": 0.015123,
     "end_time": "2023-01-25T11:12:44.419040",
     "exception": false,
     "start_time": "2023-01-25T11:12:44.403917",
     "status": "completed"
    },
    "tags": []
   },
   "outputs": [],
   "source": [
    "#q0.hint()\n",
    "#q0.solution()"
   ]
  },
  {
   "cell_type": "markdown",
   "id": "2f777e6a",
   "metadata": {
    "papermill": {
     "duration": 0.006338,
     "end_time": "2023-01-25T11:12:44.432068",
     "exception": false,
     "start_time": "2023-01-25T11:12:44.425730",
     "status": "completed"
    },
    "tags": []
   },
   "source": [
    "The upcoming questions work the same way. The only thing that will change are the question numbers. For the next question, you'll call `q1.check()`, `q1.hint()`, `q1.solution()`, for question 2, you'll call `q2.check()`, and so on."
   ]
  },
  {
   "cell_type": "markdown",
   "id": "852aa244",
   "metadata": {
    "papermill": {
     "duration": 0.006097,
     "end_time": "2023-01-25T11:12:44.444669",
     "exception": false,
     "start_time": "2023-01-25T11:12:44.438572",
     "status": "completed"
    },
    "tags": []
   },
   "source": [
    "<hr/>\n",
    "\n",
    "# 1.\n",
    "\n",
    "Complete the code below. In case it's helpful, here is the table of available arithmetic operations:\n",
    "\n",
    "\n",
    "\n",
    "| Operator     | Name           | Description                                            |\n",
    "|--------------|----------------|--------------------------------------------------------|\n",
    "| ``a + b``    | Addition       | Sum of ``a`` and ``b``                                 |\n",
    "| ``a - b``    | Subtraction    | Difference of ``a`` and ``b``                          |\n",
    "| ``a * b``    | Multiplication | Product of ``a`` and ``b``                             |\n",
    "| ``a / b``    | True division  | Quotient of ``a`` and ``b``                            |\n",
    "| ``a // b``   | Floor division | Quotient of ``a`` and ``b``, removing fractional parts |\n",
    "| ``a % b``    | Modulus        | Integer remainder after division of ``a`` by ``b``     |\n",
    "| ``a ** b``   | Exponentiation | ``a`` raised to the power of ``b``                     |\n",
    "| ``-a``       | Negation       | The negative of ``a``                                  |\n",
    "\n",
    "<span style=\"display:none\"></span>\n"
   ]
  },
  {
   "cell_type": "code",
   "execution_count": 5,
   "id": "5a2b9023",
   "metadata": {
    "execution": {
     "iopub.execute_input": "2023-01-25T11:12:44.460510Z",
     "iopub.status.busy": "2023-01-25T11:12:44.460084Z",
     "iopub.status.idle": "2023-01-25T11:12:44.470573Z",
     "shell.execute_reply": "2023-01-25T11:12:44.469407Z"
    },
    "papermill": {
     "duration": 0.020662,
     "end_time": "2023-01-25T11:12:44.472971",
     "exception": false,
     "start_time": "2023-01-25T11:12:44.452309",
     "status": "completed"
    },
    "tags": []
   },
   "outputs": [
    {
     "data": {
      "application/javascript": [
       "parent.postMessage({\"jupyterEvent\": \"custom.exercise_interaction\", \"data\": {\"outcomeType\": 4, \"interactionType\": 1, \"questionType\": 1, \"questionId\": \"1_CircleArea\", \"learnToolsVersion\": \"0.3.4\", \"valueTowardsCompletion\": 0.0, \"failureMessage\": \"\", \"exceptionClass\": \"\", \"trace\": \"\"}}, \"*\")"
      ],
      "text/plain": [
       "<IPython.core.display.Javascript object>"
      ]
     },
     "metadata": {},
     "output_type": "display_data"
    },
    {
     "data": {
      "text/markdown": [
       "<span style=\"color:#ccaa33\">Check:</span> When you've updated the starter code, `check()` will tell you whether your code is correct. Remember, you must create the following variables: `radius`, `area`"
      ],
      "text/plain": [
       "Check: When you've updated the starter code, `check()` will tell you whether your code is correct. Remember, you must create the following variables: `radius`, `area`"
      ]
     },
     "metadata": {},
     "output_type": "display_data"
    }
   ],
   "source": [
    "pi = 3.14159 # approximate\n",
    "diameter = 3\n",
    "\n",
    "# Create a variable called 'radius' equal to half the diameter\n",
    "____\n",
    "\n",
    "# Create a variable called 'area', using the formula for the area of a circle: pi times the radius squared\n",
    "____\n",
    "\n",
    "# Check your answer\n",
    "q1.check()"
   ]
  },
  {
   "cell_type": "code",
   "execution_count": 6,
   "id": "c0f82c68",
   "metadata": {
    "execution": {
     "iopub.execute_input": "2023-01-25T11:12:44.488732Z",
     "iopub.status.busy": "2023-01-25T11:12:44.488074Z",
     "iopub.status.idle": "2023-01-25T11:12:44.491831Z",
     "shell.execute_reply": "2023-01-25T11:12:44.491031Z"
    },
    "papermill": {
     "duration": 0.014482,
     "end_time": "2023-01-25T11:12:44.494319",
     "exception": false,
     "start_time": "2023-01-25T11:12:44.479837",
     "status": "completed"
    },
    "tags": []
   },
   "outputs": [],
   "source": [
    "# Uncomment and run the lines below if you need help.\n",
    "#q1.hint()\n",
    "#q1.solution()"
   ]
  },
  {
   "cell_type": "markdown",
   "id": "a7469e3a",
   "metadata": {
    "papermill": {
     "duration": 0.006356,
     "end_time": "2023-01-25T11:12:44.507585",
     "exception": false,
     "start_time": "2023-01-25T11:12:44.501229",
     "status": "completed"
    },
    "tags": []
   },
   "source": [
    "<hr/>\n",
    "\n",
    "# 2.\n",
    "\n",
    "Add code to the following cell to swap variables `a` and `b` (so that `a` refers to the object previously referred to by `b` and vice versa)."
   ]
  },
  {
   "cell_type": "code",
   "execution_count": 7,
   "id": "930f5417",
   "metadata": {
    "execution": {
     "iopub.execute_input": "2023-01-25T11:12:44.523123Z",
     "iopub.status.busy": "2023-01-25T11:12:44.522332Z",
     "iopub.status.idle": "2023-01-25T11:12:44.533410Z",
     "shell.execute_reply": "2023-01-25T11:12:44.532296Z"
    },
    "papermill": {
     "duration": 0.02157,
     "end_time": "2023-01-25T11:12:44.535873",
     "exception": false,
     "start_time": "2023-01-25T11:12:44.514303",
     "status": "completed"
    },
    "tags": []
   },
   "outputs": [
    {
     "data": {
      "application/javascript": [
       "parent.postMessage({\"jupyterEvent\": \"custom.exercise_interaction\", \"data\": {\"outcomeType\": 2, \"failureMessage\": \"`a` and `b` still have their original values.\", \"interactionType\": 1, \"questionType\": 2, \"questionId\": \"2_VariableSwap\", \"learnToolsVersion\": \"0.3.4\", \"valueTowardsCompletion\": 0.0, \"exceptionClass\": \"\", \"trace\": \"\"}}, \"*\")"
      ],
      "text/plain": [
       "<IPython.core.display.Javascript object>"
      ]
     },
     "metadata": {},
     "output_type": "display_data"
    },
    {
     "data": {
      "text/markdown": [
       "<span style=\"color:#cc3333\">Incorrect:</span> `a` and `b` still have their original values."
      ],
      "text/plain": [
       "Incorrect: `a` and `b` still have their original values."
      ]
     },
     "metadata": {},
     "output_type": "display_data"
    }
   ],
   "source": [
    "########### Setup code - don't touch this part ######################\n",
    "# If you're curious, these are examples of lists. We'll talk about \n",
    "# them in depth a few lessons from now. For now, just know that they're\n",
    "# yet another type of Python object, like int or float.\n",
    "a = [1, 2, 3]\n",
    "b = [3, 2, 1]\n",
    "q2.store_original_ids()\n",
    "######################################################################\n",
    "\n",
    "# Your code goes here. Swap the values to which a and b refer.\n",
    "# If you get stuck, you can always uncomment one or both of the lines in\n",
    "# the next cell for a hint, or to peek at the solution.\n",
    "\n",
    "######################################################################\n",
    "\n",
    "# Check your answer\n",
    "q2.check()"
   ]
  },
  {
   "cell_type": "code",
   "execution_count": 8,
   "id": "0e922329",
   "metadata": {
    "execution": {
     "iopub.execute_input": "2023-01-25T11:12:44.552809Z",
     "iopub.status.busy": "2023-01-25T11:12:44.552187Z",
     "iopub.status.idle": "2023-01-25T11:12:44.557299Z",
     "shell.execute_reply": "2023-01-25T11:12:44.556282Z"
    },
    "papermill": {
     "duration": 0.016425,
     "end_time": "2023-01-25T11:12:44.559735",
     "exception": false,
     "start_time": "2023-01-25T11:12:44.543310",
     "status": "completed"
    },
    "tags": []
   },
   "outputs": [],
   "source": [
    "#q2.hint()"
   ]
  },
  {
   "cell_type": "code",
   "execution_count": 9,
   "id": "22a7245f",
   "metadata": {
    "execution": {
     "iopub.execute_input": "2023-01-25T11:12:44.576186Z",
     "iopub.status.busy": "2023-01-25T11:12:44.575739Z",
     "iopub.status.idle": "2023-01-25T11:12:44.580134Z",
     "shell.execute_reply": "2023-01-25T11:12:44.579288Z"
    },
    "papermill": {
     "duration": 0.015283,
     "end_time": "2023-01-25T11:12:44.582341",
     "exception": false,
     "start_time": "2023-01-25T11:12:44.567058",
     "status": "completed"
    },
    "tags": []
   },
   "outputs": [],
   "source": [
    "#q2.solution()"
   ]
  },
  {
   "cell_type": "markdown",
   "id": "c8ae03ca",
   "metadata": {
    "papermill": {
     "duration": 0.007047,
     "end_time": "2023-01-25T11:12:44.596702",
     "exception": false,
     "start_time": "2023-01-25T11:12:44.589655",
     "status": "completed"
    },
    "tags": []
   },
   "source": [
    "<hr/>\n",
    "\n",
    "# 3a.\n",
    "\n",
    "Add parentheses to the following expression so that it evaluates to 1."
   ]
  },
  {
   "cell_type": "code",
   "execution_count": 10,
   "id": "0b8c29da",
   "metadata": {
    "execution": {
     "iopub.execute_input": "2023-01-25T11:12:44.613068Z",
     "iopub.status.busy": "2023-01-25T11:12:44.612417Z",
     "iopub.status.idle": "2023-01-25T11:12:44.619634Z",
     "shell.execute_reply": "2023-01-25T11:12:44.618449Z"
    },
    "papermill": {
     "duration": 0.018013,
     "end_time": "2023-01-25T11:12:44.621935",
     "exception": false,
     "start_time": "2023-01-25T11:12:44.603922",
     "status": "completed"
    },
    "tags": []
   },
   "outputs": [
    {
     "data": {
      "text/plain": [
       "4"
      ]
     },
     "execution_count": 10,
     "metadata": {},
     "output_type": "execute_result"
    }
   ],
   "source": [
    "5 - 3 // 2"
   ]
  },
  {
   "cell_type": "code",
   "execution_count": 11,
   "id": "311fa184",
   "metadata": {
    "execution": {
     "iopub.execute_input": "2023-01-25T11:12:44.638498Z",
     "iopub.status.busy": "2023-01-25T11:12:44.638106Z",
     "iopub.status.idle": "2023-01-25T11:12:44.641916Z",
     "shell.execute_reply": "2023-01-25T11:12:44.641044Z"
    },
    "papermill": {
     "duration": 0.014805,
     "end_time": "2023-01-25T11:12:44.644122",
     "exception": false,
     "start_time": "2023-01-25T11:12:44.629317",
     "status": "completed"
    },
    "tags": []
   },
   "outputs": [],
   "source": [
    "#q3.a.hint()"
   ]
  },
  {
   "cell_type": "code",
   "execution_count": 12,
   "id": "6cd1449e",
   "metadata": {
    "execution": {
     "iopub.execute_input": "2023-01-25T11:12:44.662754Z",
     "iopub.status.busy": "2023-01-25T11:12:44.661528Z",
     "iopub.status.idle": "2023-01-25T11:12:44.671198Z",
     "shell.execute_reply": "2023-01-25T11:12:44.669796Z"
    },
    "papermill": {
     "duration": 0.021298,
     "end_time": "2023-01-25T11:12:44.673738",
     "exception": false,
     "start_time": "2023-01-25T11:12:44.652440",
     "status": "completed"
    },
    "tags": []
   },
   "outputs": [
    {
     "data": {
      "application/javascript": [
       "parent.postMessage({\"jupyterEvent\": \"custom.exercise_interaction\", \"data\": {\"interactionType\": 3, \"questionType\": 4, \"questionId\": \"3.1_ArithmeticParensEasy\", \"learnToolsVersion\": \"0.3.4\", \"valueTowardsCompletion\": 0.0, \"failureMessage\": \"\", \"exceptionClass\": \"\", \"trace\": \"\", \"outcomeType\": 4}}, \"*\")"
      ],
      "text/plain": [
       "<IPython.core.display.Javascript object>"
      ]
     },
     "metadata": {},
     "output_type": "display_data"
    },
    {
     "data": {
      "text/markdown": [
       "<span style=\"color:#33cc99\">Solution:</span> \n",
       "```python\n",
       "(5 - 3) // 2\n",
       "```"
      ],
      "text/plain": [
       "Solution: \n",
       "```python\n",
       "(5 - 3) // 2\n",
       "```"
      ]
     },
     "metadata": {},
     "output_type": "display_data"
    }
   ],
   "source": [
    "# Check your answer (Run this code cell to receive credit!)\n",
    "q3.a.solution()"
   ]
  },
  {
   "cell_type": "markdown",
   "id": "3bcdcbc4",
   "metadata": {
    "papermill": {
     "duration": 0.008223,
     "end_time": "2023-01-25T11:12:44.690117",
     "exception": false,
     "start_time": "2023-01-25T11:12:44.681894",
     "status": "completed"
    },
    "tags": []
   },
   "source": [
    "# 3b.  <span title=\"A bit spicy\" style=\"color: darkgreen \">🌶️</span>\n",
    "\n",
    "<small>Questions, like this one, marked a spicy pepper are a bit harder.</small>\n",
    "\n",
    "Add parentheses to the following expression so that it evaluates to 0."
   ]
  },
  {
   "cell_type": "code",
   "execution_count": 13,
   "id": "28095b25",
   "metadata": {
    "execution": {
     "iopub.execute_input": "2023-01-25T11:12:44.707838Z",
     "iopub.status.busy": "2023-01-25T11:12:44.707388Z",
     "iopub.status.idle": "2023-01-25T11:12:44.714989Z",
     "shell.execute_reply": "2023-01-25T11:12:44.713813Z"
    },
    "papermill": {
     "duration": 0.019146,
     "end_time": "2023-01-25T11:12:44.717233",
     "exception": false,
     "start_time": "2023-01-25T11:12:44.698087",
     "status": "completed"
    },
    "tags": []
   },
   "outputs": [
    {
     "data": {
      "text/plain": [
       "2"
      ]
     },
     "execution_count": 13,
     "metadata": {},
     "output_type": "execute_result"
    }
   ],
   "source": [
    "8 - 3 * 2 - 1 + 1"
   ]
  },
  {
   "cell_type": "code",
   "execution_count": 14,
   "id": "17a64f31",
   "metadata": {
    "execution": {
     "iopub.execute_input": "2023-01-25T11:12:44.735008Z",
     "iopub.status.busy": "2023-01-25T11:12:44.734334Z",
     "iopub.status.idle": "2023-01-25T11:12:44.739391Z",
     "shell.execute_reply": "2023-01-25T11:12:44.738177Z"
    },
    "papermill": {
     "duration": 0.016702,
     "end_time": "2023-01-25T11:12:44.741827",
     "exception": false,
     "start_time": "2023-01-25T11:12:44.725125",
     "status": "completed"
    },
    "tags": []
   },
   "outputs": [],
   "source": [
    "#q3.b.hint()"
   ]
  },
  {
   "cell_type": "code",
   "execution_count": 15,
   "id": "6aa344b5",
   "metadata": {
    "execution": {
     "iopub.execute_input": "2023-01-25T11:12:44.759720Z",
     "iopub.status.busy": "2023-01-25T11:12:44.759306Z",
     "iopub.status.idle": "2023-01-25T11:12:44.769429Z",
     "shell.execute_reply": "2023-01-25T11:12:44.767989Z"
    },
    "papermill": {
     "duration": 0.02196,
     "end_time": "2023-01-25T11:12:44.771857",
     "exception": false,
     "start_time": "2023-01-25T11:12:44.749897",
     "status": "completed"
    },
    "tags": []
   },
   "outputs": [
    {
     "data": {
      "application/javascript": [
       "parent.postMessage({\"jupyterEvent\": \"custom.exercise_interaction\", \"data\": {\"interactionType\": 3, \"questionType\": 4, \"questionId\": \"3.2_ArithmeticParensHard\", \"learnToolsVersion\": \"0.3.4\", \"valueTowardsCompletion\": 0.0, \"failureMessage\": \"\", \"exceptionClass\": \"\", \"trace\": \"\", \"outcomeType\": 4}}, \"*\")"
      ],
      "text/plain": [
       "<IPython.core.display.Javascript object>"
      ]
     },
     "metadata": {},
     "output_type": "display_data"
    },
    {
     "data": {
      "text/markdown": [
       "<span style=\"color:#33cc99\">Solution:</span> `(8 - 3) * (2 - (1 + 1))` is one solution. There may be others."
      ],
      "text/plain": [
       "Solution: `(8 - 3) * (2 - (1 + 1))` is one solution. There may be others."
      ]
     },
     "metadata": {},
     "output_type": "display_data"
    }
   ],
   "source": [
    "# Check your answer (Run this code cell to receive credit!)\n",
    "q3.b.solution()"
   ]
  },
  {
   "cell_type": "markdown",
   "id": "0788709a",
   "metadata": {
    "papermill": {
     "duration": 0.007957,
     "end_time": "2023-01-25T11:12:44.788142",
     "exception": false,
     "start_time": "2023-01-25T11:12:44.780185",
     "status": "completed"
    },
    "tags": []
   },
   "source": [
    "<hr/>\n",
    "\n",
    "# 4. \n",
    "Alice, Bob and Carol have agreed to pool their Halloween candy and split it evenly among themselves.\n",
    "For the sake of their friendship, any candies left over will be smashed. For example, if they collectively\n",
    "bring home 91 candies, they'll take 30 each and smash 1.\n",
    "\n",
    "Write an arithmetic expression below to calculate how many candies they must smash for a given haul."
   ]
  },
  {
   "cell_type": "code",
   "execution_count": 16,
   "id": "5ccc1805",
   "metadata": {
    "execution": {
     "iopub.execute_input": "2023-01-25T11:12:44.806394Z",
     "iopub.status.busy": "2023-01-25T11:12:44.805965Z",
     "iopub.status.idle": "2023-01-25T11:12:44.815706Z",
     "shell.execute_reply": "2023-01-25T11:12:44.814531Z"
    },
    "papermill": {
     "duration": 0.022242,
     "end_time": "2023-01-25T11:12:44.818481",
     "exception": false,
     "start_time": "2023-01-25T11:12:44.796239",
     "status": "completed"
    },
    "tags": []
   },
   "outputs": [
    {
     "data": {
      "application/javascript": [
       "parent.postMessage({\"jupyterEvent\": \"custom.exercise_interaction\", \"data\": {\"outcomeType\": 4, \"interactionType\": 1, \"questionType\": 1, \"questionId\": \"4_CandySplitting\", \"learnToolsVersion\": \"0.3.4\", \"valueTowardsCompletion\": 0.0, \"failureMessage\": \"\", \"exceptionClass\": \"\", \"trace\": \"\"}}, \"*\")"
      ],
      "text/plain": [
       "<IPython.core.display.Javascript object>"
      ]
     },
     "metadata": {},
     "output_type": "display_data"
    },
    {
     "data": {
      "text/markdown": [
       "<span style=\"color:#ccaa33\">Check:</span> When you've updated the starter code, `check()` will tell you whether your code is correct. You need to update the code that creates variable `to_smash`"
      ],
      "text/plain": [
       "Check: When you've updated the starter code, `check()` will tell you whether your code is correct. You need to update the code that creates variable `to_smash`"
      ]
     },
     "metadata": {},
     "output_type": "display_data"
    }
   ],
   "source": [
    "# Variables representing the number of candies collected by alice, bob, and carol\n",
    "alice_candies = 121\n",
    "bob_candies = 77\n",
    "carol_candies = 109\n",
    "\n",
    "# Your code goes here! Replace the right-hand side of this assignment with an expression\n",
    "# involving alice_candies, bob_candies, and carol_candies\n",
    "to_smash = -1\n",
    "\n",
    "# Check your answer\n",
    "q4.check()"
   ]
  },
  {
   "cell_type": "code",
   "execution_count": 17,
   "id": "526e6cec",
   "metadata": {
    "execution": {
     "iopub.execute_input": "2023-01-25T11:12:44.838082Z",
     "iopub.status.busy": "2023-01-25T11:12:44.837603Z",
     "iopub.status.idle": "2023-01-25T11:12:44.842556Z",
     "shell.execute_reply": "2023-01-25T11:12:44.841279Z"
    },
    "papermill": {
     "duration": 0.017914,
     "end_time": "2023-01-25T11:12:44.845289",
     "exception": false,
     "start_time": "2023-01-25T11:12:44.827375",
     "status": "completed"
    },
    "tags": []
   },
   "outputs": [],
   "source": [
    "#q4.hint()\n",
    "#q4.solution()"
   ]
  },
  {
   "cell_type": "markdown",
   "id": "8c2ee215",
   "metadata": {
    "papermill": {
     "duration": 0.008615,
     "end_time": "2023-01-25T11:12:44.862841",
     "exception": false,
     "start_time": "2023-01-25T11:12:44.854226",
     "status": "completed"
    },
    "tags": []
   },
   "source": [
    "# Keep Going\n",
    "\n",
    "Next up, you'll **[learn to write new functions and understand functions others write](https://www.kaggle.com/colinmorris/functions-and-getting-help)**. This will make you at least 10 times more productive as a Python programmer. "
   ]
  },
  {
   "cell_type": "markdown",
   "id": "4e5ebe97",
   "metadata": {
    "papermill": {
     "duration": 0.008653,
     "end_time": "2023-01-25T11:12:44.880422",
     "exception": false,
     "start_time": "2023-01-25T11:12:44.871769",
     "status": "completed"
    },
    "tags": []
   },
   "source": [
    "---\n",
    "\n",
    "\n",
    "\n",
    "\n",
    "*Have questions or comments? Visit the [course discussion forum](https://www.kaggle.com/learn/python/discussion) to chat with other learners.*"
   ]
  }
 ],
 "metadata": {
  "kernelspec": {
   "display_name": "Python 3",
   "language": "python",
   "name": "python3"
  },
  "language_info": {
   "codemirror_mode": {
    "name": "ipython",
    "version": 3
   },
   "file_extension": ".py",
   "mimetype": "text/x-python",
   "name": "python",
   "nbconvert_exporter": "python",
   "pygments_lexer": "ipython3",
   "version": "3.7.12"
  },
  "papermill": {
   "default_parameters": {},
   "duration": 11.268794,
   "end_time": "2023-01-25T11:12:45.611158",
   "environment_variables": {},
   "exception": null,
   "input_path": "__notebook__.ipynb",
   "output_path": "__notebook__.ipynb",
   "parameters": {},
   "start_time": "2023-01-25T11:12:34.342364",
   "version": "2.3.4"
  }
 },
 "nbformat": 4,
 "nbformat_minor": 5
}
